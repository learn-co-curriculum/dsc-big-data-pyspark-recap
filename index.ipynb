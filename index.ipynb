{
 "cells": [
  {
   "cell_type": "markdown",
   "metadata": {},
   "source": [
    "# Big Data and (Py)Spark - Recap"
   ]
  },
  {
   "cell_type": "markdown",
   "metadata": {},
   "source": [
    "## Key Takeaways\n",
    "\n",
    "The key takeaways from this section include:\n",
    "\n",
    "* Big Data usually refers to datasets that grow so large that they become awkward to work with using traditional database management systems and analytical approaches\n",
    "* Big data refers to data that is terabytes (TB) to petabytes (PB) in size\n",
    "* MapReduce can be used to split big datasets up in smaller sets to be distributed over several machines to deal with Big Data Analytics \n",
    "* PySpark can be installed directly on your computer using `conda` or in a Docker container\n",
    "* When you start working with PySpark, you have to create a `SparkContext` or `SparkSession`\n",
    "* The creation or RDDs is essential when working with PySpark\n",
    "* Examples of actions and transformations include `collect()`, `count()`, `filter()`, `first()`, `take()`, and `reduce()` \n",
    "* Machine Learning on the scale of big data can be done with Spark using the `ml` library\n"
   ]
  }
 ],
 "metadata": {
  "kernelspec": {
   "display_name": "Python (python3)",
   "language": "python",
   "name": "python3"
  },
  "language_info": {
   "codemirror_mode": {
    "name": "ipython",
    "version": 3
   },
   "file_extension": ".py",
   "mimetype": "text/x-python",
   "name": "python",
   "nbconvert_exporter": "python",
   "pygments_lexer": "ipython3",
   "version": "3.9.5"
  }
 },
 "nbformat": 4,
 "nbformat_minor": 2
}
